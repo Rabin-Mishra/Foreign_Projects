{
  "nbformat": 4,
  "nbformat_minor": 0,
  "metadata": {
    "colab": {
      "provenance": []
    },
    "kernelspec": {
      "name": "python3",
      "display_name": "Python 3"
    },
    "language_info": {
      "name": "python"
    }
  },
  "cells": [
    {
      "cell_type": "code",
      "execution_count": 1,
      "metadata": {
        "colab": {
          "base_uri": "https://localhost:8080/"
        },
        "id": "TMuPgDkFnGDQ",
        "outputId": "ed0cfed9-f25e-487d-dd56-df261f703f33"
      },
      "outputs": [
        {
          "output_type": "stream",
          "name": "stdout",
          "text": [
            "Enter customer age: 25\n",
            "Discount is 0%\n",
            "\n",
            "Test Results:\n",
            "----------------------------------------------------------------------\n",
            "Case   | Age   | Expected   | Output   | Evaluation\n",
            "----------------------------------------------------------------------\n",
            "1      | 9     | 100        | 100      | Pass      \n",
            "2      | 10    | 100        | 100      | Pass      \n",
            "3      | 30    | 0          | 0        | Pass      \n",
            "4      | 59    | 0          | 0        | Pass      \n",
            "5      | 60    | 20         | 20       | Pass      \n",
            "6      | 61    | 20         | 20       | Pass      \n"
          ]
        }
      ],
      "source": [
        "class RestaurantDiscount:\n",
        "    def __init__(self):\n",
        "        self.discount_percent = 0\n",
        "\n",
        "    def calculate_discount(self, user_age):\n",
        "        \"\"\"\n",
        "        Calculate discount based on user age.\n",
        "\n",
        "        Args:\n",
        "            user_age (int): Customer's age.\n",
        "\n",
        "        Returns:\n",
        "            int: Discount percentage.\n",
        "        \"\"\"\n",
        "        if user_age <= 10:\n",
        "            self.discount_percent = 100\n",
        "        elif user_age >= 60:\n",
        "            self.discount_percent = 20\n",
        "        else:\n",
        "            self.discount_percent = 0\n",
        "\n",
        "        return self.discount_percent\n",
        "\n",
        "    def get_discount_info(self, user_age):\n",
        "        \"\"\"\n",
        "        Get formatted discount information.\n",
        "\n",
        "        Args:\n",
        "            user_age (int): Customer's age.\n",
        "\n",
        "        Returns:\n",
        "            str: Formatted discount message.\n",
        "        \"\"\"\n",
        "        discount = self.calculate_discount(user_age)\n",
        "        return f\"Discount is {discount}%\"\n",
        "\n",
        "def run_tests():\n",
        "    \"\"\"Run all test cases and display results in a formatted table.\"\"\"\n",
        "    calculator = RestaurantDiscount()\n",
        "    test_cases = [9, 10, 30, 59, 60, 61]\n",
        "\n",
        "    print(\"\\nTest Results:\")\n",
        "    print(\"-\" * 70)\n",
        "    print(f\"{'Case':<6} | {'Age':<5} | {'Expected':<10} | {'Output':<8} | {'Evaluation':<10}\")\n",
        "    print(\"-\" * 70)\n",
        "\n",
        "    for i, age in enumerate(test_cases, 1):\n",
        "        # Calculate expected output\n",
        "        if age <= 10:\n",
        "            expected = 100\n",
        "        elif age >= 60:\n",
        "            expected = 20\n",
        "        else:\n",
        "            expected = 0\n",
        "\n",
        "        # Get actual output\n",
        "        actual = calculator.calculate_discount(age)\n",
        "\n",
        "        # Evaluate result\n",
        "        evaluation = \"Pass\" if actual == expected else \"Fail\"\n",
        "\n",
        "        # Print test case result\n",
        "        print(f\"{i:<6} | {age:<5} | {expected:<10} | {actual:<8} | {evaluation:<10}\")\n",
        "\n",
        "# Main program execution\n",
        "if __name__ == \"__main__\":\n",
        "    # Create calculator instance\n",
        "    calculator = RestaurantDiscount()\n",
        "\n",
        "    # Interactive mode for user input\n",
        "    try:\n",
        "        user_age = int(input(\"Enter customer age: \"))\n",
        "        print(calculator.get_discount_info(user_age))\n",
        "    except ValueError:\n",
        "        print(\"Please enter a valid age (whole number).\")\n",
        "\n",
        "    # Run test cases\n",
        "    run_tests()\n"
      ]
    }
  ]
}