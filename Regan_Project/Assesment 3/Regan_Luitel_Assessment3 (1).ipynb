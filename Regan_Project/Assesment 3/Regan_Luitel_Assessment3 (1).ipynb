{
  "cells": [
    {
      "cell_type": "code",
      "source": [
        "class Payment:\n",
        "    def __init__(self, payment_type):\n",
        "        self.payment_type = payment_type\n",
        "\n",
        "    def get_payment_details(self):\n",
        "        return f\"Payment Method: {self.payment_type}\"\n",
        "\n",
        "class Invoice:\n",
        "    def __init__(self, invoice_amount, payment_method):\n",
        "        self.invoice_amount = invoice_amount\n",
        "        self.payment_method = payment_method\n",
        "\n",
        "    def calculate_loyalty_points(self, is_member):\n",
        "        if is_member:\n",
        "            return self.invoice_amount // 100\n",
        "        return 0\n",
        "\n",
        "    def get_invoice_details(self):\n",
        "        return f\"Invoice Amount: {self.invoice_amount}, {self.payment_method.get_payment_details()}\"\n",
        "\n",
        "class Customer:\n",
        "    def __init__(self, customer_number, is_member):\n",
        "        self.customer_number = customer_number\n",
        "        self.is_member = is_member\n",
        "        self.invoices = []\n",
        "\n",
        "    def add_invoice(self, invoice):\n",
        "        self.invoices.append(invoice)\n",
        "\n",
        "    def get_customer_info(self):\n",
        "        return f\"Customer Number: {self.customer_number}, Member: {'Yes' if self.is_member else 'No'}\"\n",
        "\n",
        "\n",
        "def calculate_loyalty_points():\n",
        "\n",
        "    customer_number = input(\"Enter customer number: \")\n",
        "    is_member_input = input(\"Is the customer a member? (Yes/No): \").strip().lower()\n",
        "    is_member = True if is_member_input == 'yes' else False\n",
        "\n",
        "\n",
        "    invoice_amount = float(input(\"Enter the invoice amount: \"))\n",
        "    payment_type = input(\"Enter the payment method (Cash/Card): \").strip().capitalize()\n",
        "\n",
        "    payment = Payment(payment_type)\n",
        "    invoice = Invoice(invoice_amount, payment)\n",
        "\n",
        "\n",
        "    customer = Customer(customer_number, is_member)\n",
        "    customer.add_invoice(invoice)\n",
        "\n",
        "\n",
        "    print(\"\\nCustomer Info:\")\n",
        "    print(customer.get_customer_info())\n",
        "    print(invoice.get_invoice_details())\n",
        "\n",
        "\n",
        "    loyalty_points = invoice.calculate_loyalty_points(customer.is_member)\n",
        "    print(f\"Loyalty Points Added: {loyalty_points}\")\n",
        "\n",
        "\n",
        "calculate_loyalty_points()"
      ],
      "metadata": {
        "colab": {
          "base_uri": "https://localhost:8080/"
        },
        "id": "QvzlzcvR--_k",
        "outputId": "6250bf24-f30c-45a7-f45a-a284d3b80214"
      },
      "execution_count": 9,
      "outputs": [
        {
          "output_type": "stream",
          "name": "stdout",
          "text": [
            "Enter customer number: 111\n",
            "Is the customer a member? (Yes/No): yes\n",
            "Enter the invoice amount: 810\n",
            "Enter the payment method (Cash/Card): cash\n",
            "\n",
            "Customer Info:\n",
            "Customer Number: 111, Member: Yes\n",
            "Invoice Amount: 810.0, Payment Method: Cash\n",
            "Loyalty Points Added: 8.0\n"
          ]
        }
      ]
    }
  ],
  "metadata": {
    "colab": {
      "provenance": []
    },
    "kernelspec": {
      "display_name": "Python 3",
      "name": "python3"
    },
    "language_info": {
      "codemirror_mode": {
        "name": "ipython",
        "version": 3
      },
      "file_extension": ".py",
      "mimetype": "text/x-python",
      "name": "python",
      "nbconvert_exporter": "python",
      "pygments_lexer": "ipython3",
      "version": "3.12.1"
    }
  },
  "nbformat": 4,
  "nbformat_minor": 0
}